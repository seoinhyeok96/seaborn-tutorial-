{
 "cells": [
  {
   "cell_type": "markdown",
   "id": "a497d67b",
   "metadata": {},
   "source": [
    "# 이페이지는 seaborn tutorial 필사했음을 전달합니다!"
   ]
  },
  {
   "cell_type": "markdown",
   "id": "73023089",
   "metadata": {},
   "source": [
    "- 데이터 시각화 라이브러로서 seaborn은 데이터를 제공해야 합니다. 이장에서는 해당 작업을 수행하는 다양한 방법에 대해 설명합니다.\n",
    "- seaborn은 여러가지 데이터 세트 형식을 지원하며 대부분의 함수는 목록 및 사전과 같은 내장 Python 유형뿐만 아니라 판다스또는 넘파이 라이브러리\n",
    "- 객체로 표현된 데이터를 허용합니다. 이러한 다양한 옵션과 관련된 사용 패턴을 이해하면서 거의 모든 데이터 세트 대한 유용한 시각화를 빠르게 맞드는 데 도움이 됩니다."
   ]
  },
  {
   "cell_type": "markdown",
   "id": "0de80566",
   "metadata": {},
   "source": [
    "# Long-form vs. wide-form data"
   ]
  },
  {
   "cell_type": "markdown",
   "id": "80f4e0c4",
   "metadata": {},
   "source": [
    "- seaborn의 대부분의 플로팅 기능은 데이터 벡터를 지향합니다.\n",
    "- x에 대해 플로팅할 때 y각 변수는 백터여야 합니다.\n",
    "- seaborn은 일부 표 형식으로 구성된 둘 이상의 백터가 있는 데이터 시트를 허용합니다.\n",
    "- \"긴 형식\"과\"넓은 형식\" 데이터 테이블 사이에는 근본적인 차이가 있으며 seaborn은 각각을 다르게 취급합니다. "
   ]
  },
  {
   "cell_type": "markdown",
   "id": "e4b301ed",
   "metadata": {},
   "source": [
    "# Long-form data\n",
    "-  긴 형식의 데이터 테이블에는 다음과 같은 특징이 있습니다."
   ]
  },
  {
   "cell_type": "markdown",
   "id": "727dd0ea",
   "metadata": {},
   "source": [
    "- 각 변수는 열입니다.\n",
    "- 각 관찰은 행입니다."
   ]
  },
  {
   "cell_type": "code",
   "execution_count": 2,
   "id": "f0df7707",
   "metadata": {},
   "outputs": [],
   "source": [
    "import seaborn as sns"
   ]
  },
  {
   "cell_type": "code",
   "execution_count": 5,
   "id": "54d08aa2",
   "metadata": {},
   "outputs": [
    {
     "data": {
      "text/html": [
       "<div>\n",
       "<style scoped>\n",
       "    .dataframe tbody tr th:only-of-type {\n",
       "        vertical-align: middle;\n",
       "    }\n",
       "\n",
       "    .dataframe tbody tr th {\n",
       "        vertical-align: top;\n",
       "    }\n",
       "\n",
       "    .dataframe thead th {\n",
       "        text-align: right;\n",
       "    }\n",
       "</style>\n",
       "<table border=\"1\" class=\"dataframe\">\n",
       "  <thead>\n",
       "    <tr style=\"text-align: right;\">\n",
       "      <th></th>\n",
       "      <th>year</th>\n",
       "      <th>month</th>\n",
       "      <th>passengers</th>\n",
       "    </tr>\n",
       "  </thead>\n",
       "  <tbody>\n",
       "    <tr>\n",
       "      <th>0</th>\n",
       "      <td>1949</td>\n",
       "      <td>Jan</td>\n",
       "      <td>112</td>\n",
       "    </tr>\n",
       "    <tr>\n",
       "      <th>1</th>\n",
       "      <td>1949</td>\n",
       "      <td>Feb</td>\n",
       "      <td>118</td>\n",
       "    </tr>\n",
       "    <tr>\n",
       "      <th>2</th>\n",
       "      <td>1949</td>\n",
       "      <td>Mar</td>\n",
       "      <td>132</td>\n",
       "    </tr>\n",
       "    <tr>\n",
       "      <th>3</th>\n",
       "      <td>1949</td>\n",
       "      <td>Apr</td>\n",
       "      <td>129</td>\n",
       "    </tr>\n",
       "    <tr>\n",
       "      <th>4</th>\n",
       "      <td>1949</td>\n",
       "      <td>May</td>\n",
       "      <td>121</td>\n",
       "    </tr>\n",
       "  </tbody>\n",
       "</table>\n",
       "</div>"
      ],
      "text/plain": [
       "   year month  passengers\n",
       "0  1949   Jan         112\n",
       "1  1949   Feb         118\n",
       "2  1949   Mar         132\n",
       "3  1949   Apr         129\n",
       "4  1949   May         121"
      ]
     },
     "execution_count": 5,
     "metadata": {},
     "output_type": "execute_result"
    }
   ],
   "source": [
    "flights = sns.load_dataset(\"flights\")\n",
    "flights.head()"
   ]
  },
  {
   "cell_type": "markdown",
   "id": "db6c1c13",
   "metadata": {},
   "source": [
    "- 긴 형식의 데이터를 사용하면 테이블의 열의 변수 중 하나에 명시적으로 할당하여 플롯에서 역할이 부여됩니다.\n",
    "- 예를들어, 연간 승객수 월별 도표를 작성하면 다음과 같습니다"
   ]
  },
  {
   "cell_type": "code",
   "execution_count": null,
   "id": "283e8640",
   "metadata": {},
   "outputs": [],
   "source": [
    "sns.relplot(data=flights,x=)"
   ]
  },
  {
   "cell_type": "code",
   "execution_count": null,
   "id": "df021aa5",
   "metadata": {},
   "outputs": [],
   "source": []
  },
  {
   "cell_type": "code",
   "execution_count": null,
   "id": "3ef92540",
   "metadata": {},
   "outputs": [],
   "source": []
  },
  {
   "cell_type": "code",
   "execution_count": null,
   "id": "f2cf4219",
   "metadata": {},
   "outputs": [],
   "source": []
  },
  {
   "cell_type": "code",
   "execution_count": null,
   "id": "2720ab61",
   "metadata": {},
   "outputs": [],
   "source": []
  },
  {
   "cell_type": "code",
   "execution_count": null,
   "id": "bfcb44f9",
   "metadata": {},
   "outputs": [],
   "source": []
  },
  {
   "cell_type": "code",
   "execution_count": null,
   "id": "ced02839",
   "metadata": {},
   "outputs": [],
   "source": []
  },
  {
   "cell_type": "code",
   "execution_count": null,
   "id": "b8ad2a4c",
   "metadata": {},
   "outputs": [],
   "source": []
  },
  {
   "cell_type": "code",
   "execution_count": null,
   "id": "6e5c514e",
   "metadata": {},
   "outputs": [],
   "source": []
  },
  {
   "cell_type": "code",
   "execution_count": null,
   "id": "f5412cdb",
   "metadata": {},
   "outputs": [],
   "source": []
  },
  {
   "cell_type": "code",
   "execution_count": null,
   "id": "71403bb1",
   "metadata": {},
   "outputs": [],
   "source": []
  },
  {
   "cell_type": "code",
   "execution_count": null,
   "id": "55e237fb",
   "metadata": {},
   "outputs": [],
   "source": []
  },
  {
   "cell_type": "code",
   "execution_count": null,
   "id": "4c8f999b",
   "metadata": {},
   "outputs": [],
   "source": []
  },
  {
   "cell_type": "code",
   "execution_count": null,
   "id": "54e46044",
   "metadata": {},
   "outputs": [],
   "source": []
  },
  {
   "cell_type": "code",
   "execution_count": null,
   "id": "3c41ecc2",
   "metadata": {},
   "outputs": [],
   "source": []
  },
  {
   "cell_type": "code",
   "execution_count": null,
   "id": "7d3ccc75",
   "metadata": {},
   "outputs": [],
   "source": []
  },
  {
   "cell_type": "code",
   "execution_count": null,
   "id": "366b91a6",
   "metadata": {},
   "outputs": [],
   "source": []
  },
  {
   "cell_type": "code",
   "execution_count": null,
   "id": "ea50157c",
   "metadata": {},
   "outputs": [],
   "source": []
  },
  {
   "cell_type": "code",
   "execution_count": null,
   "id": "d310816f",
   "metadata": {},
   "outputs": [],
   "source": []
  },
  {
   "cell_type": "code",
   "execution_count": null,
   "id": "985c6ad7",
   "metadata": {},
   "outputs": [],
   "source": []
  },
  {
   "cell_type": "code",
   "execution_count": null,
   "id": "5b3ae7f4",
   "metadata": {},
   "outputs": [],
   "source": []
  },
  {
   "cell_type": "code",
   "execution_count": null,
   "id": "215f193c",
   "metadata": {},
   "outputs": [],
   "source": []
  },
  {
   "cell_type": "code",
   "execution_count": null,
   "id": "fa0c4509",
   "metadata": {},
   "outputs": [],
   "source": []
  },
  {
   "cell_type": "code",
   "execution_count": null,
   "id": "841c8e67",
   "metadata": {},
   "outputs": [],
   "source": []
  },
  {
   "cell_type": "code",
   "execution_count": null,
   "id": "f0f02764",
   "metadata": {},
   "outputs": [],
   "source": []
  }
 ],
 "metadata": {
  "kernelspec": {
   "display_name": "py3.8",
   "language": "python",
   "name": "py3.8"
  },
  "language_info": {
   "codemirror_mode": {
    "name": "ipython",
    "version": 3
   },
   "file_extension": ".py",
   "mimetype": "text/x-python",
   "name": "python",
   "nbconvert_exporter": "python",
   "pygments_lexer": "ipython3",
   "version": "3.8.0"
  }
 },
 "nbformat": 4,
 "nbformat_minor": 5
}
