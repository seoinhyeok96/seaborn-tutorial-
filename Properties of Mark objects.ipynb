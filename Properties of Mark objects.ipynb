{
 "cells": [
  {
   "cell_type": "markdown",
   "id": "78fdebd1",
   "metadata": {},
   "source": [
    "# Properties of Mark objects"
   ]
  },
  {
   "cell_type": "markdown",
   "id": "71ebf03f",
   "metadata": {},
   "source": [
    "- Coordinate properties\n",
    "- x, y, xmin, xmax, ymin, ymax"
   ]
  },
  {
   "cell_type": "markdown",
   "id": "555a3599",
   "metadata": {},
   "source": [
    "좌표 속성은 플롯에서 마크가 그려지는 위치를 결정합니다. 공식적으로 x좌표는 수평 위치이고 y좌표는 수직 위치입니다. 일부 마크는 하나 또는 두 변수 모두에 대해 범위(즉, min, max) 매개변수화를 허용합니다. 다른 사람들은 스팬을 표시하기 위해 매개변수를 수락 x하고 y사용할 수도 있습니다. baseline레이어의 orient매개변수에 따라 이것이 작동하는 방식이 결정됩니다.\n",
    "\n",
    "변수에 숫자 데이터가 포함되어 있지 않으면 화면에 데이터를 그릴 수 있도록 해당 스케일이 변환을 적용합니다. 예를 들어 Nominal척도는 각각의 고유한 범주에 정수 인덱스를 할당하고 Temporal척도는 날짜를 참조 \"신기원\"으로부터의 일 수로 나타냅니다."
   ]
  },
  {
   "cell_type": "markdown",
   "id": "9d3bd6ca",
   "metadata": {},
   "source": [
    "# 색상속성"
   ]
  },
  {
   "cell_type": "markdown",
   "id": "6dc342a0",
   "metadata": {},
   "source": [
    "모든 마크에는 가 부여될 수 color있으며 대부분은 마크의 \"가장자리\"와 \"채우기\" 색상을 구분합니다. 종종 단순히 사용하면 color둘 다 설정되지만 보다 구체적인 속성을 사용하면 추가 제어가 가능합니다."
   ]
  },
  {
   "cell_type": "markdown",
   "id": "9a898e6d",
   "metadata": {},
   "source": [
    "색상 속성이 매핑되면 기본 색상표는 배율 유형에 따라 다릅니다. 공칭 척도는 불연속적이고 정렬되지 않은 색조를 사용하는 반면 연속 척도(시간적 척도 포함)는 순차적인 그라데이션을 사용합니다.\n",
    "\n"
   ]
  },
  {
   "cell_type": "markdown",
   "id": "9104dea1",
   "metadata": {},
   "source": [
    "# 알파, 필알파, 에지알파"
   ]
  },
  {
   "cell_type": "markdown",
   "id": "dff3f7ec",
   "metadata": {},
   "source": [
    "이 alpha속성은 마크의 불투명도를 결정합니다. 오버플로팅의 경우 알파를 낮추면 밀도를 나타내는 데 도움이 될 수 있습니다.\n",
    "\n",
    "속성 매핑은 alpha중요도를 전달하고 척도와 결합하여 color두 변수를 나타낼 수 있기 때문에 마크가 겹치지 않는 경우에도 유용할 수 있습니다. 또한 알파가 낮은 색상은 채도가 낮아져 더 큰 채워진 표시(예: 막대)의 모양을 개선할 수 있습니다.\n",
    "\n",
    "와 마찬가지로 color일부 마크는 추가 제어를 위해 별도 edgealpha및 fillalpha속성을 정의합니다."
   ]
  },
  {
   "cell_type": "markdown",
   "id": "610ae719",
   "metadata": {},
   "source": []
  },
  {
   "cell_type": "code",
   "execution_count": null,
   "id": "51da9d3a",
   "metadata": {},
   "outputs": [],
   "source": []
  },
  {
   "cell_type": "code",
   "execution_count": null,
   "id": "b51d58df",
   "metadata": {},
   "outputs": [],
   "source": []
  },
  {
   "cell_type": "code",
   "execution_count": null,
   "id": "eedd999d",
   "metadata": {},
   "outputs": [],
   "source": []
  },
  {
   "cell_type": "code",
   "execution_count": null,
   "id": "4c10bad7",
   "metadata": {},
   "outputs": [],
   "source": []
  },
  {
   "cell_type": "code",
   "execution_count": null,
   "id": "b3263b80",
   "metadata": {},
   "outputs": [],
   "source": []
  },
  {
   "cell_type": "code",
   "execution_count": null,
   "id": "128bbdb1",
   "metadata": {},
   "outputs": [],
   "source": []
  },
  {
   "cell_type": "code",
   "execution_count": null,
   "id": "4e28c622",
   "metadata": {},
   "outputs": [],
   "source": []
  },
  {
   "cell_type": "code",
   "execution_count": null,
   "id": "7f37dd08",
   "metadata": {},
   "outputs": [],
   "source": []
  },
  {
   "cell_type": "code",
   "execution_count": null,
   "id": "454ecd37",
   "metadata": {},
   "outputs": [],
   "source": []
  },
  {
   "cell_type": "code",
   "execution_count": null,
   "id": "b43a7179",
   "metadata": {},
   "outputs": [],
   "source": []
  },
  {
   "cell_type": "code",
   "execution_count": null,
   "id": "51fa1c3d",
   "metadata": {},
   "outputs": [],
   "source": []
  }
 ],
 "metadata": {
  "kernelspec": {
   "display_name": "Python 3 (ipykernel)",
   "language": "python",
   "name": "python3"
  },
  "language_info": {
   "codemirror_mode": {
    "name": "ipython",
    "version": 3
   },
   "file_extension": ".py",
   "mimetype": "text/x-python",
   "name": "python",
   "nbconvert_exporter": "python",
   "pygments_lexer": "ipython3",
   "version": "3.9.13"
  }
 },
 "nbformat": 4,
 "nbformat_minor": 5
}
